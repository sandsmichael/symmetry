{
 "cells": [
  {
   "cell_type": "code",
   "execution_count": 4,
   "id": "9cc78f58",
   "metadata": {},
   "outputs": [],
   "source": [
    "import pandas as pd\n",
    "import numpy as np\n",
    "\n",
    "from compare import Compare"
   ]
  },
  {
   "cell_type": "code",
   "execution_count": 10,
   "id": "dd0cbb46",
   "metadata": {},
   "outputs": [],
   "source": [
    "dfx = pd.read_csv('./dummy/data3.csv')\n",
    "dfy = pd.read_csv('./dummy/data2.csv')\n",
    "cpare = Compare(dfx, dfy)"
   ]
  },
  {
   "cell_type": "code",
   "execution_count": 11,
   "id": "5c503358",
   "metadata": {},
   "outputs": [
    {
     "data": {
      "text/html": [
       "<style type=\"text/css\">\n",
       "#T_f5ac5_row0_col0, #T_f5ac5_row1_col0 {\n",
       "  background-color: #a50026;\n",
       "  color: #f1f1f1;\n",
       "}\n",
       "#T_f5ac5_row0_col2, #T_f5ac5_row1_col2 {\n",
       "  background-color: #fee08b;\n",
       "  color: #000000;\n",
       "}\n",
       "#T_f5ac5_row0_col3 {\n",
       "  background-color: #000000;\n",
       "  color: #f1f1f1;\n",
       "}\n",
       "#T_f5ac5_row0_col4, #T_f5ac5_row1_col4 {\n",
       "  background-color: #66bd63;\n",
       "  color: #f1f1f1;\n",
       "}\n",
       "#T_f5ac5_row0_col5, #T_f5ac5_row1_col5 {\n",
       "  background-color: #006837;\n",
       "  color: #f1f1f1;\n",
       "}\n",
       "#T_f5ac5_row1_col3 {\n",
       "  background-color: #d9ef8b;\n",
       "  color: #000000;\n",
       "}\n",
       "</style>\n",
       "<table id=\"T_f5ac5\">\n",
       "  <thead>\n",
       "    <tr>\n",
       "      <th class=\"blank level0\" >&nbsp;</th>\n",
       "      <th id=\"T_f5ac5_level0_col0\" class=\"col_heading level0 col0\" >col1</th>\n",
       "      <th id=\"T_f5ac5_level0_col1\" class=\"col_heading level0 col1\" > col2</th>\n",
       "      <th id=\"T_f5ac5_level0_col2\" class=\"col_heading level0 col2\" > col3</th>\n",
       "      <th id=\"T_f5ac5_level0_col3\" class=\"col_heading level0 col3\" > col4</th>\n",
       "      <th id=\"T_f5ac5_level0_col4\" class=\"col_heading level0 col4\" > col5</th>\n",
       "      <th id=\"T_f5ac5_level0_col5\" class=\"col_heading level0 col5\" > col6</th>\n",
       "    </tr>\n",
       "  </thead>\n",
       "  <tbody>\n",
       "    <tr>\n",
       "      <th id=\"T_f5ac5_level0_row0\" class=\"row_heading level0 row0\" >2</th>\n",
       "      <td id=\"T_f5ac5_row0_col0\" class=\"data row0 col0\" >2.100000</td>\n",
       "      <td id=\"T_f5ac5_row0_col1\" class=\"data row0 col1\" > 3.2</td>\n",
       "      <td id=\"T_f5ac5_row0_col2\" class=\"data row0 col2\" >4.300000</td>\n",
       "      <td id=\"T_f5ac5_row0_col3\" class=\"data row0 col3\" >nan</td>\n",
       "      <td id=\"T_f5ac5_row0_col4\" class=\"data row0 col4\" >6.500000</td>\n",
       "      <td id=\"T_f5ac5_row0_col5\" class=\"data row0 col5\" >7.600000</td>\n",
       "    </tr>\n",
       "    <tr>\n",
       "      <th id=\"T_f5ac5_level0_row1\" class=\"row_heading level0 row1\" >4</th>\n",
       "      <td id=\"T_f5ac5_row1_col0\" class=\"data row1 col0\" >2.100000</td>\n",
       "      <td id=\"T_f5ac5_row1_col1\" class=\"data row1 col1\" >nan</td>\n",
       "      <td id=\"T_f5ac5_row1_col2\" class=\"data row1 col2\" >4.300000</td>\n",
       "      <td id=\"T_f5ac5_row1_col3\" class=\"data row1 col3\" >5.400000</td>\n",
       "      <td id=\"T_f5ac5_row1_col4\" class=\"data row1 col4\" >6.500000</td>\n",
       "      <td id=\"T_f5ac5_row1_col5\" class=\"data row1 col5\" >7.600000</td>\n",
       "    </tr>\n",
       "  </tbody>\n",
       "</table>\n"
      ],
      "text/plain": [
       "<pandas.io.formats.style.Styler at 0x7fcfeac54e80>"
      ]
     },
     "execution_count": 11,
     "metadata": {},
     "output_type": "execute_result"
    }
   ],
   "source": [
    "cpare.nans()"
   ]
  },
  {
   "cell_type": "code",
   "execution_count": null,
   "id": "484a0f69",
   "metadata": {},
   "outputs": [],
   "source": []
  },
  {
   "cell_type": "code",
   "execution_count": null,
   "id": "b2751407",
   "metadata": {},
   "outputs": [],
   "source": []
  }
 ],
 "metadata": {
  "kernelspec": {
   "display_name": "Python 3 (ipykernel)",
   "language": "python",
   "name": "python3"
  },
  "language_info": {
   "codemirror_mode": {
    "name": "ipython",
    "version": 3
   },
   "file_extension": ".py",
   "mimetype": "text/x-python",
   "name": "python",
   "nbconvert_exporter": "python",
   "pygments_lexer": "ipython3",
   "version": "3.9.2"
  }
 },
 "nbformat": 4,
 "nbformat_minor": 5
}
